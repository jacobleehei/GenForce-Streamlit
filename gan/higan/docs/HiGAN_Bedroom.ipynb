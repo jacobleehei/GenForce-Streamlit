{
  "nbformat": 4,
  "nbformat_minor": 0,
  "metadata": {
    "colab": {
      "name": "HiGAN-Bedroom.ipynb",
      "provenance": [],
      "collapsed_sections": [
        "ob-zea6r2lwf",
        "R4ELQheL7Akk",
        "l5SimJ4B8NiM",
        "xw4cPALTCsrz"
      ],
      "toc_visible": true
    },
    "kernelspec": {
      "name": "python3",
      "display_name": "Python 3"
    },
    "accelerator": "GPU"
  },
  "cells": [
    {
      "cell_type": "markdown",
      "metadata": {
        "id": "ob-zea6r2lwf"
      },
      "source": [
        "# Fetch Codebase and Models"
      ]
    },
    {
      "cell_type": "code",
      "metadata": {
        "id": "UC7nnp2I2p_s"
      },
      "source": [
        "import os\n",
        "os.chdir('/content')\n",
        "CODE_DIR = 'higan'\n",
        "!git clone https://github.com/genforce/higan.git $CODE_DIR\n",
        "os.chdir(f'./{CODE_DIR}')\n",
        "!mkdir -p models/pretrain/pytorch\n",
        "!wget https://www.dropbox.com/s/h1w7ld4hsvte5zf/stylegan_bedroom256_generator.pth?dl=1 -O models/pretrain/pytorch/stylegan_bedroom256_generator.pth --quiet\n",
        "!wget https://www.dropbox.com/s/hwjyclj749qtp89/order_w.npy?dl=1 -O order_w_1k.npy --quiet\n"
      ],
      "execution_count": null,
      "outputs": []
    },
    {
      "cell_type": "markdown",
      "metadata": {
        "id": "R4ELQheL7Akk"
      },
      "source": [
        "# Define Utility Functions"
      ]
    },
    {
      "cell_type": "code",
      "metadata": {
        "id": "0rBNq-lX7L-v"
      },
      "source": [
        "import io\n",
        "import IPython.display\n",
        "import cv2\n",
        "import PIL.Image\n",
        "import os\n",
        "import numpy as np\n",
        "from tqdm import tqdm\n",
        "import torch\n",
        "\n",
        "from models.helper import build_generator\n",
        "from utils.logger import setup_logger\n",
        "from utils.editor import get_layerwise_manipulation_strength\n",
        "from utils.editor import manipulate\n",
        "\n",
        "\n",
        "def imshow(images, col, viz_size=256):\n",
        "  \"\"\"Shows images in one figure.\"\"\"\n",
        "  num, height, width, channels = images.shape\n",
        "  assert num % col == 0\n",
        "  row = num // col\n",
        "\n",
        "  fused_image = np.zeros((viz_size * row, viz_size * col, channels), dtype=np.uint8)\n",
        "\n",
        "  for idx, image in enumerate(images):\n",
        "    i, j = divmod(idx, col)\n",
        "    y = i * viz_size\n",
        "    x = j * viz_size\n",
        "    if height != viz_size or width != viz_size:\n",
        "      image = cv2.resize(image, (viz_size, viz_size))\n",
        "    fused_image[y:y + viz_size, x:x + viz_size] = image\n",
        "\n",
        "  fused_image = np.asarray(fused_image, dtype=np.uint8)\n",
        "  data = io.BytesIO()\n",
        "  PIL.Image.fromarray(fused_image).save(data, 'jpeg')\n",
        "  im_data = data.getvalue()\n",
        "  disp = IPython.display.display(IPython.display.Image(im_data))\n",
        "  return disp\n",
        "\n",
        "def build_model(model_name, logger=None):\n",
        "  \"\"\"Builds the generator by model name.\"\"\"\n",
        "  model = build_generator(model_name, logger=logger)\n",
        "  return model\n",
        "\n",
        "def sample_codes(model, num, seed=0, w1k_code=None):\n",
        "  \"\"\"Samples latent codes randomly.\"\"\"\n",
        "  np.random.seed(seed)\n",
        "  if w1k_code is None:\n",
        "    codes = generator.easy_sample(num)\n",
        "    latent_codes = model.easy_sample(num=num, latent_space_type='w')\n",
        "  else:\n",
        "    latent_codes = w1k_code[np.random.randint(0, w1k_code.shape[0], num)] \n",
        "  latent_codes = model.easy_synthesize(latent_codes=latent_codes,\n",
        "                                       latent_space_type='w',\n",
        "                                       generate_style=False,\n",
        "                                       generate_image=False)['wp']\n",
        "  return latent_codes\n",
        "\n",
        "w1k_code = np.load('order_w_1k.npy')"
      ],
      "execution_count": null,
      "outputs": []
    },
    {
      "cell_type": "markdown",
      "metadata": {
        "id": "l5SimJ4B8NiM"
      },
      "source": [
        "# Build Generator"
      ]
    },
    {
      "cell_type": "code",
      "metadata": {
        "id": "iRL0zAeR8TKF"
      },
      "source": [
        "indoor_model_name = \"stylegan_bedroom\" \n",
        "indoor_model = build_model(indoor_model_name)"
      ],
      "execution_count": null,
      "outputs": []
    },
    {
      "cell_type": "markdown",
      "metadata": {
        "id": "Jp9fRBmvJqDZ"
      },
      "source": [
        "# Sample Codes"
      ]
    },
    {
      "cell_type": "code",
      "metadata": {
        "id": "Tagl2uK_JvOx"
      },
      "source": [
        "#@title { display-mode: \"form\", run: \"auto\" }\n",
        "num_samples = 4 #@param {type:\"slider\", min:1, max:8, step:1}\n",
        "noise_seed = 382 #@param {type:\"slider\", min:0, max:1000, step:1}\n",
        "\n",
        "indoor_latent_codes = sample_codes(indoor_model, num_samples, noise_seed, w1k_code=w1k_code)\n",
        "synthesis_kwargs = {'latent_space_type': 'wp'}\n",
        "\n",
        "images = indoor_model.easy_synthesize(indoor_latent_codes, **synthesis_kwargs)['image']\n",
        "imshow(images, col=num_samples)"
      ],
      "execution_count": null,
      "outputs": []
    },
    {
      "cell_type": "markdown",
      "metadata": {
        "id": "i2ke5CqRJ0ax"
      },
      "source": [
        "# Edit Scene Attributes"
      ]
    },
    {
      "cell_type": "code",
      "metadata": {
        "id": "M26UU6HrJ5Ki"
      },
      "source": [
        "#@title { display-mode: \"form\", run: \"auto\" }\n",
        "\n",
        "attribute_name = 'view' #@param ['indoor_lighting', 'wood', 'cluttered_space', 'view']\n",
        "path = f'boundaries/{indoor_model_name}/{attribute_name}_boundary.npy'\n",
        "#print(f'Loading boundary from {path}')\n",
        "try:\n",
        "  boundary_file = np.load(path, allow_pickle=True).item()\n",
        "  boundary = boundary_file['boundary']\n",
        "  manipulate_layers = boundary_file['meta_data']['manipulate_layers']\n",
        "except ValueError:\n",
        "  boundary = np.load(path)\n",
        "  if attribute_name == 'view':\n",
        "    manipulate_layers = '0-4'\n",
        "  else:\n",
        "    manipulate_layers = '6-11'\n",
        "\n",
        "\n",
        "if attribute_name == 'view':\n",
        "  strength = [1.0 for _ in range(indoor_model.num_layers)]\n",
        "else:\n",
        "  strength = get_layerwise_manipulation_strength(\n",
        "    indoor_model.num_layers, indoor_model.truncation_psi, indoor_model.truncation_layers)\n",
        "\n",
        "distance = -3 #@param {type:\"slider\", min:-3.0, max:3.0, step:0.1}\n",
        "indoor_codes = manipulate(latent_codes=indoor_latent_codes,\n",
        "                     boundary=boundary,\n",
        "                     start_distance=0,\n",
        "                     end_distance=distance,\n",
        "                     step=2,\n",
        "                     layerwise_manipulation=True,\n",
        "                     num_layers=indoor_model.num_layers,\n",
        "                     manipulate_layers=manipulate_layers,\n",
        "                     is_code_layerwise=True,\n",
        "                     is_boundary_layerwise=False,\n",
        "                     layerwise_manipulation_strength=strength)\n",
        "images = indoor_model.easy_synthesize(indoor_codes[:, 1], latent_space_type='wp')['image']\n",
        "imshow(images, col=num_samples)"
      ],
      "execution_count": null,
      "outputs": []
    }
  ]
}